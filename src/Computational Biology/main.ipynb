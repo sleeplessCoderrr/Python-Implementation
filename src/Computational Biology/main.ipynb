{
 "cells": [
  {
   "cell_type": "markdown",
   "metadata": {},
   "source": [
    "#### Computational Biology Qualification"
   ]
  },
  {
   "cell_type": "markdown",
   "metadata": {},
   "source": [
    "##### Data Preparing"
   ]
  },
  {
   "cell_type": "code",
   "execution_count": 3,
   "metadata": {},
   "outputs": [],
   "source": [
    "def read_fasta(file_path):\n",
    "    sequences = []\n",
    "    with open(file=file_path, mode=\"r\") as file:\n",
    "        seq = []\n",
    "        for line in file:\n",
    "            line = line.strip()\n",
    "            if line.startswith(\">\"):\n",
    "                if seq:\n",
    "                    sequences.append(\"\".join(seq))\n",
    "                seq = []\n",
    "            else:\n",
    "                seq.append(line)\n",
    "        if seq:\n",
    "            sequences.append(\"\".join(seq))\n",
    "    return sequences\n",
    "    "
   ]
  },
  {
   "cell_type": "code",
   "execution_count": 13,
   "metadata": {},
   "outputs": [],
   "source": [
    "FILE_A_PATH = './dataset/sequence.txt'\n",
    "FILE_B_PATH = './dataset/sequence.fasta'\n",
    "\n",
    "sequence_A = read_fasta(FILE_A_PATH)\n",
    "sequence_B = read_fasta(FILE_B_PATH)\n",
    "sequence_C = sequence_A[:5] + sequence_B[-5:]"
   ]
  },
  {
   "cell_type": "markdown",
   "metadata": {},
   "source": [
    "##### Computational Biology"
   ]
  },
  {
   "cell_type": "code",
   "execution_count": null,
   "metadata": {},
   "outputs": [],
   "source": []
  }
 ],
 "metadata": {
  "kernelspec": {
   "display_name": "computational_biology",
   "language": "python",
   "name": "python3"
  },
  "language_info": {
   "codemirror_mode": {
    "name": "ipython",
    "version": 3
   },
   "file_extension": ".py",
   "mimetype": "text/x-python",
   "name": "python",
   "nbconvert_exporter": "python",
   "pygments_lexer": "ipython3",
   "version": "3.7.12"
  }
 },
 "nbformat": 4,
 "nbformat_minor": 2
}
