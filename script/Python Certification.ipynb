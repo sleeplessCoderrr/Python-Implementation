{
 "cells": [
  {
   "cell_type": "markdown",
   "metadata": {},
   "source": [
    "# Scientific Computing"
   ]
  },
  {
   "cell_type": "markdown",
   "metadata": {},
   "source": [
    "### 1. Arithmetic Formatter\n",
    "Receives a list of strings which are arithmetic problems, and returns the problems arranged vertically and side-by-side.\n",
    "The function should optionally take a second argument. "
   ]
  },
  {
   "cell_type": "code",
   "execution_count": 3,
   "metadata": {},
   "outputs": [
    {
     "name": "stdout",
     "output_type": "stream",
     "text": [
      "\n",
      "   32      3801      45      123\n",
      "+ 698    -    2    + 43    +  49\n",
      "-----    ------    ----    -----\n",
      "  730      3799      88      172\n"
     ]
    }
   ],
   "source": [
    "def arithmetic_arranger(problems, display_answers=True):\n",
    "    if len(problems) > 5:\n",
    "        return \"Error: Too many problems.\"\n",
    "\n",
    "    top_row = \"\"\n",
    "    bottom_row = \"\"\n",
    "    dash_row = \"\"\n",
    "    answer_row = \"\"\n",
    "\n",
    "    for i, problem in enumerate(problems):\n",
    "        parts = problem.split()\n",
    "        if len(parts) != 3:\n",
    "            return \"Error: Invalid format.\"\n",
    "\n",
    "        operand1, operator, operand2 = parts\n",
    "        if operator not in ['+', '-']:\n",
    "            return \"Error: Operator must be '+' or '-'.\"\n",
    "        if not operand1.isdigit() or not operand2.isdigit():\n",
    "            return \"Error: Numbers must only contain digits.\"\n",
    "        if len(operand1) > 4 or len(operand2) > 4:\n",
    "            return \"Error: Numbers cannot be more than four digits.\"\n",
    "\n",
    "        \n",
    "        if display_answers:\n",
    "            answer = str(eval(problem))\n",
    "        \n",
    "        \n",
    "        width = max(len(operand1), len(operand2)) + 2\n",
    "        top_row += operand1.rjust(width)\n",
    "        bottom_row += operator + operand2.rjust(width - 1)\n",
    "        dash_row += '-' * width\n",
    "        if display_answers:\n",
    "            answer_row += answer.rjust(width)\n",
    "        if i < len(problems) - 1:\n",
    "            top_row += \"    \"\n",
    "            bottom_row += \"    \"\n",
    "            dash_row += \"    \"\n",
    "            if display_answers:\n",
    "                answer_row += \"    \"\n",
    "\n",
    "    arranged_problems = top_row + \"\\n\" + bottom_row + \"\\n\" + dash_row\n",
    "    if display_answers:\n",
    "        arranged_problems += \"\\n\" + answer_row\n",
    "\n",
    "    return arranged_problems\n",
    "\n",
    "print(f'\\n{arithmetic_arranger([\"32 + 698\", \"3801 - 2\", \"45 + 43\", \"123 + 49\"])}')"
   ]
  },
  {
   "cell_type": "markdown",
   "metadata": {},
   "source": [
    "### 2. Time Calculator\n",
    "Write a function named add_time that takes in two required parameters and one optional parameter:\n",
    "- a start time in the 12-hour clock format (ending in AM or PM)\n",
    "- a duration time that indicates the number of hours and minutes\n",
    "- (optional) a starting day of the week, case insensitive\n",
    "The function should add the duration time to the start time and return the result."
   ]
  },
  {
   "cell_type": "code",
   "execution_count": 9,
   "metadata": {},
   "outputs": [
    {
     "data": {
      "text/plain": [
       "'7:42 AM (8 days later)'"
      ]
     },
     "execution_count": 9,
     "metadata": {},
     "output_type": "execute_result"
    }
   ],
   "source": [
    "from datetime import datetime, timedelta\n",
    "\n",
    "def add_time(start, duration, weekday=None):\n",
    "    # Days of the week for reference\n",
    "    days_of_week = ['monday', 'tuesday', 'wednesday', 'thursday', 'friday', 'saturday', 'sunday']\n",
    "\n",
    "    # Parse the start time to a datetime object\n",
    "    start_time = datetime.strptime(start, \"%I:%M %p\")\n",
    "    \n",
    "    # Parse the duration time (hours and minutes)\n",
    "    duration_parts = duration.split(\":\")\n",
    "    duration_hours = int(duration_parts[0])\n",
    "    duration_minutes = int(duration_parts[1])\n",
    "    \n",
    "    # Add duration to start time\n",
    "    added_time = start_time + timedelta(hours=duration_hours, minutes=duration_minutes)\n",
    "    \n",
    "    # Get the number of days later\n",
    "    total_days_later = (added_time - start_time).days\n",
    "    next_day_str = \"\"\n",
    "    if total_days_later == 1:\n",
    "        next_day_str = \" (next day)\"\n",
    "    elif total_days_later > 1:\n",
    "        next_day_str = f\" ({total_days_later} days later)\"\n",
    "    \n",
    "    # Determine the result time format\n",
    "    result_time = added_time.strftime(\"%I:%M %p\").lstrip(\"0\")\n",
    "    \n",
    "    # If weekday is provided, calculate the day of the week\n",
    "    if weekday:\n",
    "        # Normalize the weekday string to lowercase\n",
    "        weekday = weekday.lower()\n",
    "        # Calculate the new weekday\n",
    "        start_weekday = days_of_week.index(weekday)\n",
    "        added_weekday = (start_weekday + total_days_later) % 7\n",
    "        result_day = days_of_week[added_weekday].capitalize()\n",
    "        result_time = f\"{result_time}, {result_day}\"\n",
    "    \n",
    "    # Return the formatted result\n",
    "    return result_time + next_day_str\n",
    "\n",
    "\n",
    "## Test cases\n",
    "add_time('3:00 PM', '3:10')\n",
    "# Returns: 6:10 PM\n",
    "add_time('11:30 AM', '2:32', 'Monday')\n",
    "# Returns: 2:02 PM, Monday\n",
    "add_time('11:43 AM', '00:20')\n",
    "# Returns: 12:03 PM\n",
    "add_time('10:10 PM', '3:30')\n",
    "# Returns: 1:40 AM (next day)\n",
    "add_time('11:43 PM', '24:20', 'tueSday')\n",
    "# Returns: 12:03 AM, Thursday (2 days later)\n",
    "add_time('6:30 PM', '205:12')\n",
    "# Returns: 7:42 AM (9 days later)\n"
   ]
  }
 ],
 "metadata": {
  "kernelspec": {
   "display_name": "base",
   "language": "python",
   "name": "python3"
  },
  "language_info": {
   "codemirror_mode": {
    "name": "ipython",
    "version": 3
   },
   "file_extension": ".py",
   "mimetype": "text/x-python",
   "name": "python",
   "nbconvert_exporter": "python",
   "pygments_lexer": "ipython3",
   "version": "3.12.4"
  }
 },
 "nbformat": 4,
 "nbformat_minor": 2
}
