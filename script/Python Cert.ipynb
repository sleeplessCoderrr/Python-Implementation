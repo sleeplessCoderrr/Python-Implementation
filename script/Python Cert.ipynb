{
 "cells": [
  {
   "cell_type": "markdown",
   "metadata": {},
   "source": [
    "# Scientific Computing"
   ]
  },
  {
   "cell_type": "markdown",
   "metadata": {},
   "source": [
    "### 1. Arithmetic Formatter\n",
    "Receives a list of strings which are arithmetic problems, and returns the problems arranged vertically and side-by-side.\n",
    "The function should optionally take a second argument. "
   ]
  },
  {
   "cell_type": "code",
   "execution_count": 3,
   "metadata": {},
   "outputs": [
    {
     "name": "stdout",
     "output_type": "stream",
     "text": [
      "\n",
      "   32      3801      45      123\n",
      "+ 698    -    2    + 43    +  49\n",
      "-----    ------    ----    -----\n",
      "  730      3799      88      172\n"
     ]
    }
   ],
   "source": [
    "def arithmetic_arranger(problems, display_answers=True):\n",
    "    if len(problems) > 5:\n",
    "        return \"Error: Too many problems.\"\n",
    "\n",
    "    top_row = \"\"\n",
    "    bottom_row = \"\"\n",
    "    dash_row = \"\"\n",
    "    answer_row = \"\"\n",
    "\n",
    "    for i, problem in enumerate(problems):\n",
    "        parts = problem.split()\n",
    "        if len(parts) != 3:\n",
    "            return \"Error: Invalid format.\"\n",
    "\n",
    "        operand1, operator, operand2 = parts\n",
    "        if operator not in ['+', '-']:\n",
    "            return \"Error: Operator must be '+' or '-'.\"\n",
    "        if not operand1.isdigit() or not operand2.isdigit():\n",
    "            return \"Error: Numbers must only contain digits.\"\n",
    "        if len(operand1) > 4 or len(operand2) > 4:\n",
    "            return \"Error: Numbers cannot be more than four digits.\"\n",
    "\n",
    "        \n",
    "        if display_answers:\n",
    "            answer = str(eval(problem))\n",
    "        \n",
    "        \n",
    "        width = max(len(operand1), len(operand2)) + 2\n",
    "        top_row += operand1.rjust(width)\n",
    "        bottom_row += operator + operand2.rjust(width - 1)\n",
    "        dash_row += '-' * width\n",
    "        if display_answers:\n",
    "            answer_row += answer.rjust(width)\n",
    "        if i < len(problems) - 1:\n",
    "            top_row += \"    \"\n",
    "            bottom_row += \"    \"\n",
    "            dash_row += \"    \"\n",
    "            if display_answers:\n",
    "                answer_row += \"    \"\n",
    "\n",
    "    arranged_problems = top_row + \"\\n\" + bottom_row + \"\\n\" + dash_row\n",
    "    if display_answers:\n",
    "        arranged_problems += \"\\n\" + answer_row\n",
    "\n",
    "    return arranged_problems\n",
    "\n",
    "print(f'\\n{arithmetic_arranger([\"32 + 698\", \"3801 - 2\", \"45 + 43\", \"123 + 49\"])}')"
   ]
  },
  {
   "cell_type": "markdown",
   "metadata": {},
   "source": [
    "### 2. Time Calculator\n",
    "Write a function named add_time that takes in two required parameters and one optional parameter:\n",
    "- a start time in the 12-hour clock format (ending in AM or PM)\n",
    "- a duration time that indicates the number of hours and minutes\n",
    "- (optional) a starting day of the week, case insensitive\n",
    "The function should add the duration time to the start time and return the result."
   ]
  },
  {
   "cell_type": "code",
   "execution_count": 1,
   "metadata": {},
   "outputs": [
    {
     "data": {
      "text/plain": [
       "'7:42 AM (9 days later)'"
      ]
     },
     "execution_count": 1,
     "metadata": {},
     "output_type": "execute_result"
    }
   ],
   "source": [
    "def add_time(start, duration, weekday=None):\n",
    "    days_of_week = ['monday', 'tuesday', 'wednesday', 'thursday', 'friday', 'saturday', 'sunday']\n",
    "    \n",
    "    start_parts = start.split()\n",
    "    time_parts = start_parts[0].split(':')\n",
    "    start_hour = int(time_parts[0])\n",
    "    start_minute = int(time_parts[1])\n",
    "    period = start_parts[1]  # AM or PM\n",
    "    \n",
    "    if period == 'PM' and start_hour != 12:\n",
    "        start_hour += 12\n",
    "    if period == 'AM' and start_hour == 12:\n",
    "        start_hour = 0\n",
    "    \n",
    "    duration_parts = duration.split(':')\n",
    "    duration_hours = int(duration_parts[0])\n",
    "    duration_minutes = int(duration_parts[1])\n",
    "    \n",
    "    total_minutes = start_minute + duration_minutes\n",
    "    extra_hours = total_minutes // 60\n",
    "    final_minutes = total_minutes % 60\n",
    "    \n",
    "    total_hours = start_hour + duration_hours + extra_hours\n",
    "    total_days_later = total_hours // 24\n",
    "    final_hour_24 = total_hours % 24\n",
    "    \n",
    "    final_period = 'AM' if final_hour_24 < 12 else 'PM'\n",
    "    final_hour = final_hour_24 % 12\n",
    "    if final_hour == 0:\n",
    "        final_hour = 12\n",
    "    \n",
    "    result_time = f\"{final_hour}:{final_minutes:02d} {final_period}\"\n",
    "    \n",
    "    if weekday:\n",
    "        weekday_index = days_of_week.index(weekday.lower())\n",
    "        result_weekday = days_of_week[(weekday_index + total_days_later) % 7].capitalize()\n",
    "        result_time += f\", {result_weekday}\"\n",
    "    \n",
    "    if total_days_later == 1:\n",
    "        result_time += \" (next day)\"\n",
    "    elif total_days_later > 1:\n",
    "        result_time += f\" ({total_days_later} days later)\"\n",
    "    \n",
    "    return result_time\n",
    "\n",
    "add_time('3:00 PM', '3:10')\n",
    "# Returns: 6:10 PM\n",
    "\n",
    "add_time('11:30 AM', '2:32', 'Monday')\n",
    "# Returns: 2:02 PM, Monday\n",
    "\n",
    "add_time('11:43 AM', '00:20')\n",
    "# Returns: 12:03 PM\n",
    "\n",
    "add_time('10:10 PM', '3:30')\n",
    "# Returns: 1:40 AM (next day)\n",
    "\n",
    "add_time('11:43 PM', '24:20', 'tueSday')\n",
    "# Returns: 12:03 AM, Thursday (2 days later)\n",
    "\n",
    "add_time('6:30 PM', '205:12')\n",
    "# Returns: 7:42 AM (9 days later)"
   ]
  }
 ],
 "metadata": {
  "kernelspec": {
   "display_name": "base",
   "language": "python",
   "name": "python3"
  },
  "language_info": {
   "codemirror_mode": {
    "name": "ipython",
    "version": 3
   },
   "file_extension": ".py",
   "mimetype": "text/x-python",
   "name": "python",
   "nbconvert_exporter": "python",
   "pygments_lexer": "ipython3",
   "version": "3.12.4"
  }
 },
 "nbformat": 4,
 "nbformat_minor": 2
}
